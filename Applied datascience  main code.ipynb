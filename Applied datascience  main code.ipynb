from corner import corner
import matplotlib.pyplot as plt
import numpy as np
import pandas as pd
import scipy.stats as ss
import seaborn as sns


def plot_relational_plot(df):
    """
    Create a relational plot to visualize relationships between two numeric variables.
    Saves the plot as 'relational_plot.png'.
    """
    fig, ax = plt.subplots(figsize=(8, 6))
    num_cols = df.select_dtypes(include=[np.number]).columns
    if len(num_cols) >= 2:
        sns.scatterplot(data=df, x=num_cols[0], y=num_cols[1], ax=ax)
        ax.set_title(f"Relational Plot: {num_cols[0]} vs {num_cols[1]}")
    else:
        ax.text(0.5, 0.5, "Not enough numeric columns for relational plot.",
                ha='center', va='center')
    plt.savefig('relational_plot.png', bbox_inches='tight')
    plt.close(fig)
    return


def plot_categorical_plot(df):
    """
    Create a categorical plot (boxplot or countplot) comparing categories to a numeric column.
    Saves the plot as 'categorical_plot.png'.
    """
    fig, ax = plt.subplots(figsize=(8, 6))
    cat_cols = df.select_dtypes(include=['object', 'category']).columns
    num_cols = df.select_dtypes(include=[np.number]).columns

    if len(cat_cols) > 0 and len(num_cols) > 0:
        sns.boxplot(data=df, x=cat_cols[0], y=num_cols[0], ax=ax)
        ax.set_title(f"Categorical Plot: {num_cols[0]} by {cat_cols[0]}")
    elif len(cat_cols) > 0:
        sns.countplot(data=df, x=cat_cols[0], ax=ax)
        ax.set_title(f"Categorical Count Plot: {cat_cols[0]}")
    else:
        ax.text(0.5, 0.5, "No categorical columns available.",
                ha='center', va='center')

    plt.savefig('categorical_plot.png', bbox_inches='tight')
    plt.close(fig)
    return


def plot_statistical_plot(df):
    """
    Create a statistical plot — a histogram with KDE overlay for a numeric variable.
    Saves the plot as 'statistical_plot.png'.
    """
    fig, ax = plt.subplots(figsize=(8, 6))
    num_cols = df.select_dtypes(include=[np.number]).columns
    if len(num_cols) > 0:
        sns.histplot(df[num_cols[0]], kde=True, ax=ax)
        ax.set_title(f"Statistical Plot: Distribution of {num_cols[0]}")
    else:
        ax.text(0.5, 0.5, "No numeric columns available.",
                ha='center', va='center')
    plt.savefig('statistical_plot.png', bbox_inches='tight')
    plt.close(fig)
    return


def statistical_analysis(df, col: str):
    """
    Compute descriptive statistics for a numeric column.

    Parameters
    ----------
    df : pd.DataFrame
        Input dataset.
    col : str
        Column name to analyze.

    Returns
    -------
    tuple
        mean, stddev, skew, excess_kurtosis
    """
    series = df[col].dropna()
    mean = series.mean()
    stddev = series.std()
    skew = ss.skew(series)
    excess_kurtosis = ss.kurtosis(series)
    return mean, stddev, skew, excess_kurtosis


def preprocessing(df):
    """
    Preprocess the dataset:
    - Display head, description, and correlation.
    - Handle missing values (drops rows with NaN for simplicity).

    Parameters
    ----------
    df : pd.DataFrame
        Raw dataset.

    Returns
    -------
    pd.DataFrame
        Cleaned dataset.
    """
    print("Initial data preview:")
    print(df.head(), "\n")

    print("Descriptive statistics:")
    print(df.describe(include='all'), "\n")

    print("Correlation matrix:")
    print(df.corr(numeric_only=True), "\n")

    df = df.dropna()
    return df


def writing(moments, col):
    """
    Print formatted results of the statistical analysis and interpret them.
    """
    mean, stddev, skew, kurt = moments
    print(f"For the attribute '{col}':")
    print(f"Mean = {mean:.2f}, Standard Deviation = {stddev:.2f}, "
          f"Skewness = {skew:.2f}, and Excess Kurtosis = {kurt:.2f}.")

    # Interpret skewness
    if skew > 2:
        skewness = "highly right-skewed"
    elif skew > 0.5:
        skewness = "moderately right-skewed"
    elif skew < -2:
        skewness = "highly left-skewed"
    elif skew < -0.5:
        skewness = "moderately left-skewed"
    else:
        skewness = "approximately symmetric"

    # Interpret kurtosis
    if kurt > 2:
        kurtosis_type = "leptokurtic (heavy tails)"
    elif kurt < -2:
        kurtosis_type = "platykurtic (light tails)"
    else:
        kurtosis_type = "mesokurtic (normal-like)"

    print(f"The data is {skewness} and {kurtosis_type}.\n")
    return


def main():
    """
    Main function to execute the full data analysis workflow.
    """
    # Update the filename below if needed, e.g., 'suicide.csv'
    df = pd.read_csv('data.csv')
    df = preprocessing(df)

    # Choose one numeric column for analysis
    numeric_cols = df.select_dtypes(include=[np.number]).columns
    if len(numeric_cols) == 0:
        raise ValueError("No numeric columns found in the dataset.")
    col = numeric_cols[0]

    plot_relational_plot(df)
    plot_statistical_plot(df)
    plot_categorical_plot(df)

    moments = statistical_analysis(df, col)
    writing(moments, col)
    return


if __name__ == '__main__':
    main()
